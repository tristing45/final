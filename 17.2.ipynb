{
 "cells": [
  {
   "cell_type": "code",
   "execution_count": 5,
   "id": "150a984b-7933-418e-a70a-e0149b6f6c0c",
   "metadata": {},
   "outputs": [
    {
     "name": "stdout",
     "output_type": "stream",
     "text": [
      "SQL script executed successfully.\n",
      "Tables in the database: [('sqlite_sequence',), ('authors',), ('titles',), ('author_ISBN',)]\n",
      "isbn | title | edition | copyright\n",
      "----------------------------------------\n",
      "0135404673 | Intro to Python for CS and DS | 1 | 2020\n",
      "0132151006 | Internet & WWW How to Program | 5 | 2012\n",
      "0134743350 | Java How to Program | 11 | 2018\n",
      "0133976890 | C How to Program | 8 | 2016\n",
      "0133406954 | Visual Basic 2012 How to Program | 6 | 2014\n",
      "0134601548 | Visual C# How to Program | 6 | 2017\n",
      "0136151574 | Visual C++ How to Program | 2 | 2008\n",
      "0134448235 | C++ How to Program | 10 | 2017\n",
      "0134444302 | Android How to Program | 3 | 2017\n",
      "0134289366 | Android 6 for Programmers | 3 | 2016\n"
     ]
    }
   ],
   "source": [
    "\"\"\"\n",
    "Author: Tristin Gregg\n",
    "Date: 12/11/2024\n",
    "Purpose: This program investigates the description and and fetchfall method.\n",
    "\"\"\"\n",
    "import sqlite3\n",
    "import os\n",
    "\n",
    "#Connect to the database\n",
    "db_path = 'C:/Users/trist/ch17/books.db' \n",
    "conn = sqlite3.connect(db_path)\n",
    "cursor = conn.cursor()\n",
    "\n",
    "#Load the SQL script\n",
    "sql_file_path = 'C:/Users/trist/ch17/books.sql'  \n",
    "try:\n",
    "    with open(sql_file_path, 'r') as f:\n",
    "        sql_script = f.read()\n",
    "    cursor.executescript(sql_script)\n",
    "    conn.commit()\n",
    "    print(\"SQL script executed successfully.\")\n",
    "except FileNotFoundError:\n",
    "    print(f\"SQL file not found: {sql_file_path}\")\n",
    "    conn.close()\n",
    "    exit()\n",
    "\n",
    "#Verify tables in the database\n",
    "cursor.execute(\"SELECT name FROM sqlite_master WHERE type='table';\")\n",
    "tables = cursor.fetchall()\n",
    "print(\"Tables in the database:\", tables)\n",
    "\n",
    "#Query data \n",
    "table_name = 'titles' \n",
    "try:\n",
    "    cursor.execute(f\"SELECT * FROM {table_name}\")\n",
    "    column_names = [desc[0] for desc in cursor.description]  # Get column names\n",
    "    data = cursor.fetchall()  # Get all rows\n",
    "    \n",
    "    #Display data in tabular format\n",
    "    print(f\"{' | '.join(column_names)}\")  # Print column headers\n",
    "    print(\"-\" * (len(column_names) * 10))\n",
    "    for row in data:\n",
    "        print(\" | \".join(map(str, row)))\n",
    "except sqlite3.OperationalError as e:\n",
    "    print(f\"Error querying table '{table_name}': {e}\")\n",
    "\n",
    "#Close the database connection\n",
    "conn.close()\n"
   ]
  },
  {
   "cell_type": "code",
   "execution_count": null,
   "id": "eeff8118-f6d4-412a-b0aa-bdc585ad5a45",
   "metadata": {},
   "outputs": [],
   "source": []
  }
 ],
 "metadata": {
  "kernelspec": {
   "display_name": "Python 3 (ipykernel)",
   "language": "python",
   "name": "python3"
  },
  "language_info": {
   "codemirror_mode": {
    "name": "ipython",
    "version": 3
   },
   "file_extension": ".py",
   "mimetype": "text/x-python",
   "name": "python",
   "nbconvert_exporter": "python",
   "pygments_lexer": "ipython3",
   "version": "3.12.4"
  }
 },
 "nbformat": 4,
 "nbformat_minor": 5
}
